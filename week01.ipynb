# 第一题
from requests_html import HTMLSession

session = HTMLSession()

r = session.get("https://www.liepin.com/zhaopin/?init=-1&headckid=1063c8664cf185da&flushckid=1&fromSearchBtn=2&ckid=5097aacb124aa0f3&compIds=&subIndustry=&industryType=industry_06&industries=350&siTag=1B2M2Y8AsgTpgAmY7PhCfg%7EYO21lsV0H0wUK91fAm7NzA&d_sfrom=search_unknown&d_ckId=046aab42d8e61b569898dc06a5fadeb3&d_curPage=0&d_pageSize=40&d_headId=89525a139fd22d006534796621c421d6/?key=python")

# 通过xpath找到工作标签
news = r.html.xpath('//div[@class="job-info"]/h3/a')
#             以下所有^^   [@attribute]條件  

for new in news:
    print("工作",new.text)  # 获得工作标题
    print("工作",new.absolute_links)  # 获得工作链接
    
    
    
    
